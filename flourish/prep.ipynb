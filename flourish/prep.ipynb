{
 "cells": [
  {
   "cell_type": "code",
   "execution_count": 18,
   "metadata": {},
   "outputs": [],
   "source": [
    "import pandas as pd\n",
    "import numpy as np"
   ]
  },
  {
   "cell_type": "code",
   "execution_count": 62,
   "metadata": {},
   "outputs": [],
   "source": [
    "points_raw = pd.read_csv('points_raw.csv')"
   ]
  },
  {
   "cell_type": "code",
   "execution_count": 3,
   "metadata": {},
   "outputs": [],
   "source": [
    "points = pd.concat([points_raw['airdrop_receiver'], points_raw['send_to']]).unique()\n",
    "points_df = pd.DataFrame(points, columns=['Actors'])\n",
    "points_df.to_csv('points.csv', index=False)"
   ]
  },
  {
   "cell_type": "code",
   "execution_count": 63,
   "metadata": {},
   "outputs": [],
   "source": [
    "remove_n = round(len(points_raw.index) / 2)\n",
    "drop_indices = np.random.choice(points_raw.index, remove_n, replace=False)\n",
    "points_raw = points_raw.drop(drop_indices)\n",
    "\n",
    "threshold = 30\n",
    "value_counts = points_raw['send_to'].value_counts()\n",
    "to_remove = value_counts[value_counts <= threshold].index\n",
    "points_raw.replace(to_remove, np.nan, inplace=True)\n",
    "points_raw = points_raw[points_raw['send_to'].notna()]\n",
    "\n",
    "points_raw.to_csv('points_raw_2.csv', index=False)\n",
    "points = pd.concat([points_raw['airdrop_receiver'], points_raw['send_to']]).unique()\n",
    "points_df = pd.DataFrame(points, columns=['Actors'])\n",
    "points_df['Count']=points_df['Actors'].map(points_raw['send_to'].value_counts() * 2)\n",
    "points_df.update(points_df['Count'].fillna(1))\n",
    "points_df.to_csv('points_2.csv', index=False)"
   ]
  },
  {
   "cell_type": "code",
   "execution_count": 77,
   "metadata": {},
   "outputs": [
    {
     "name": "stdout",
     "output_type": "stream",
     "text": [
      "31\n",
      "count      31.000000\n",
      "mean      190.709677\n",
      "std       230.145200\n",
      "min        62.000000\n",
      "25%        67.000000\n",
      "50%       104.000000\n",
      "75%       163.000000\n",
      "max      1090.000000\n",
      "Name: Count, dtype: float64\n",
      "                                          Actors   Count\n",
      "2956  0xd9c09aa488f29c7f5de482d64bf00076f96971cf   256.0\n",
      "2957  0xf117358f1ebeb7d49f858eb86acf375c01f06e2f    64.0\n",
      "2958  0xae7b660543fec89edbe63a5219720ec8fe5ab68e    94.0\n",
      "2959  0xee6c82de830c309fbe37b85ae8bc7122b86c5176   494.0\n",
      "2960  0x8c2047667aad211200db04c5482e3f855c810d08   162.0\n",
      "2961  0x3b055bb0f7602bd8ef005be255d35afca9239756   128.0\n",
      "2962  0xc28951d008cd623d81b1cfe34c1b2a77d94a230a   760.0\n",
      "2963  0x01bf2c453c6ade15ec2c273c0ad9c7da33dbecaa    66.0\n",
      "2964  0x170b707d0b4aa364b8c24fe0c9f4f74593bfb637   132.0\n",
      "2965  0x9825ea8dcee1fba8ca23eac2285e4c9bed39ae72   104.0\n",
      "2966  0x1b881afb37a162c7839ef7661377d376aee3d272   244.0\n",
      "2967  0x12c1ea17a8181a8cd20557ae8fcd4b2ddd14d1c2   164.0\n",
      "2968  0xc278a2bcb5129511d56ae4cfeae74790e1481c25  1090.0\n",
      "2969  0xbd8e70c4cf387a6f96758ad726ee4da1220ed592    64.0\n",
      "2970  0x54c906d4db657474cfe86c52552431fb60c71ef3    72.0\n",
      "2971  0xf48b0e435e9657a7615a8e4f94230f9134cc48cb   162.0\n",
      "2972  0xfe53477738f929a42769f64e141867474be72526   146.0\n",
      "2973  0xc4ede28285b0416ea16a8c51ff5924e4e5957ab9    62.0\n",
      "2974  0xfdb27289c9db452fc9ff4bef6939f5504d604a99   152.0\n",
      "2975  0x9337c9d8ead53777c9c9924e37a363e19195ab3e    68.0\n",
      "2976  0xae7b94a3ec8979fd8473de57d9659632895ccbec   536.0\n",
      "2977  0x222db1e3abb6dc772e5dbdbe5ae553e338666666    94.0\n",
      "2978  0x5cc67770e6d35f0358c88bc51bc948b042423ba1   116.0\n",
      "2979  0x1868e6127b2999f7ab4be774c4a9d137012412bb   178.0\n",
      "2980  0xf76b17ce8ff08f96ad7bb785d4ed898d5d5014ef    78.0\n",
      "2981  0x81d3844fda62917215aeb9946a755ce42ca001a9    92.0\n",
      "2982  0xdc12ea5ee764ae580775d2dc7be061461d6d306e    62.0\n",
      "2983  0x21f4743fc9d5f6704cb415a08ed22e0cc753de6b    66.0\n",
      "2984  0xc69a34560381c15f8ecca0585927b6439fb882d9    66.0\n",
      "2985  0xe0f18378832235947ae38c178a1a667ccbe4fb86    66.0\n",
      "2986  0xd223a1ab0999f5f590bbc9a9f0940bc97878331d    74.0\n"
     ]
    }
   ],
   "source": [
    "print(len(points_raw['send_to'].value_counts()))\n",
    "points_df_clusters = points_df[points_df['Count'] != 1]  \n",
    "print(points_df_clusters['Count'].describe())\n",
    "\n",
    "print(points_df_clusters)"
   ]
  }
 ],
 "metadata": {
  "kernelspec": {
   "display_name": "venv",
   "language": "python",
   "name": "python3"
  },
  "language_info": {
   "codemirror_mode": {
    "name": "ipython",
    "version": 3
   },
   "file_extension": ".py",
   "mimetype": "text/x-python",
   "name": "python",
   "nbconvert_exporter": "python",
   "pygments_lexer": "ipython3",
   "version": "3.10.9"
  }
 },
 "nbformat": 4,
 "nbformat_minor": 2
}
